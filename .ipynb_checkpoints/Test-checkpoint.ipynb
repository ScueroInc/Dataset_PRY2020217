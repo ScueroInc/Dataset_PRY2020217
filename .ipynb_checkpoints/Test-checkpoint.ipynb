{
 "cells": [
  {
   "cell_type": "code",
   "execution_count": null,
   "metadata": {},
   "outputs": [
    {
     "name": "stderr",
     "output_type": "stream",
     "text": [
      "Using TensorFlow backend.\n"
     ]
    },
    {
     "name": "stdout",
     "output_type": "stream",
     "text": [
      "Funciona inicio\n"
     ]
    }
   ],
   "source": [
    "from tkinter import *\n",
    "from PIL import ImageTk,Image\n",
    "from tkinter import filedialog\n",
    "import h5py\n",
    "import keras\n",
    "from time import time\n",
    "from keras.models import Sequential\n",
    "from keras.layers import Dense, Flatten\n",
    "from keras.applications.resnet50 import ResNet50, decode_predictions, preprocess_input\n",
    "import matplotlib.pyplot as plt\n",
    "from keras.utils.vis_utils import plot_model\n",
    "from keras.models import load_model\n",
    "from keras.preprocessing import image\n",
    "import numpy as np\n",
    "\n",
    "\n",
    "def PosMayor(array):\n",
    "    mayor=0\n",
    "    valMax=np.max(array)\n",
    "    result = np.where(array==valMax)\n",
    "    print(result)\n",
    "    return int(result[1])\n",
    "\n",
    "\n",
    "def DecodPredict(pos):\n",
    "\tswitcher = {\n",
    "\t0: \"Aguadito de pollo\",\n",
    "\t1: \"Aji de pollo y arroz\",\n",
    "\t2: \"Almendras\",\n",
    "\t3: \"Anticucho\",\n",
    "\t4: \"Arroz chaufa de pollo\",\n",
    "\t5: \"Arroz con leche\",\n",
    "\t6: \"Arroz con pollo\",\n",
    "\t7: \"Causa rellena\",\n",
    "\t8: \"Cebiche de pescado\",\n",
    "\t9: \"Chanfainita\",\n",
    "\t10: \"Choclo con queso\",\n",
    "\t11: \"Granadilla\",\n",
    "\t12: \"Lomo saltado con arroz\",\n",
    "\t13: \"Maní\",\n",
    "\t14: \"Manzana\",\n",
    "\t15: \"Mazamorra morada\",\n",
    "\t16: \"Pan con chicharron\",\n",
    "\t17: \"Pan con pollo\",\n",
    "\t18: \"Panqueques\",\n",
    "\t19: \"Papa a la huancaína\",\n",
    "\t20: \"Pasas\",\n",
    "\t21: \"Pecanas\",\n",
    "\t22: \"Pistachos\",\n",
    "\t23: \"Pizza\",\n",
    "\t24: \"Plátano\",\n",
    "\t25: \"Pollo a la brasa con papas fritas\",\n",
    "\t26: \"Pollo broaster con papas fritas\",\n",
    "\t27: \"Sandía\",\n",
    "\t28: \"Sopa seca con carapulcra\",\n",
    "\t29: \"Tacacho con cecina\",\n",
    "\t30: \"Tallarines rojos con pollo\",\n",
    "\t31: \"Tallarines saltados con pollo\",\n",
    "\t32: \"Tallarines verdes con bistec\",\n",
    "\t33: \"Tamal de pollo\",\n",
    "\t34: \"Triple\",\n",
    "\t35: \"Uva verde\"\n",
    "\t}\n",
    "\treturn switcher.get(pos,\"Invalid\")\n",
    "    \n",
    "    \n",
    "    \n",
    "print(\"Funciona inicio\")\n",
    "start_time = time()\n",
    "model = load_model(\"model-best.h5\")\n",
    "elapsed_time = time() - start_time\n",
    "print(\"Elapsed time: %0.10f seconds.\" % elapsed_time)\n",
    "print(\"Funciona load\")\n",
    "img = image.load_img('ga.jpg', target_size=(224,224))\n",
    "print(\"Funciona carga\")\n",
    "x = image.img_to_array(img)\n",
    "print(\"Funciona to array\")\n",
    "x = np.expand_dims(x, axis=0)\n",
    "print(\"Funciona dims\")\n",
    "x = preprocess_input(x)\n",
    "print(\"Funciona input\")\n",
    "preds = model.predict(x)\n",
    "print(\"Funciona predict\")\n",
    "print(preds)\n",
    "posM=PosMayor(preds)\n",
    "print(\"Funciona posmayor\"+str(posM))\n",
    "print(DecodPredict(posM))\n"
   ]
  },
  {
   "cell_type": "code",
   "execution_count": null,
   "metadata": {},
   "outputs": [],
   "source": []
  }
 ],
 "metadata": {
  "kernelspec": {
   "display_name": "Python [conda env:cpugputensorflow] *",
   "language": "python",
   "name": "conda-env-cpugputensorflow-py"
  },
  "language_info": {
   "codemirror_mode": {
    "name": "ipython",
    "version": 3
   },
   "file_extension": ".py",
   "mimetype": "text/x-python",
   "name": "python",
   "nbconvert_exporter": "python",
   "pygments_lexer": "ipython3",
   "version": "3.7.1"
  }
 },
 "nbformat": 4,
 "nbformat_minor": 4
}
