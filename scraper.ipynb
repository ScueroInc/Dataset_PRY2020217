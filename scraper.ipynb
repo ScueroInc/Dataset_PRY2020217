{
 "cells": [
  {
   "cell_type": "code",
   "execution_count": null,
   "metadata": {},
   "outputs": [],
   "source": [
    "pip install jmd_imagescraper"
   ]
  },
  {
   "cell_type": "code",
   "execution_count": null,
   "metadata": {},
   "outputs": [
    {
     "name": "stdout",
     "output_type": "stream",
     "text": [
      "Ingrese el nombre de la carpeta: 1. Cebiche de pescado\n",
      "Ingrese el nombre de la comida: ceviche de pescado\n",
      "Ingrese un atributo de la comida: ceviche\n",
      "Ingrese la cantidad: 300\n",
      "Duckduckgo search: ceviche\n",
      "Downloading results into C:\\Users\\Eddili\\Repos\\Dataset_PRY2020217-\\1. Cebiche de pescado\\ceviche de pescado\n"
     ]
    },
    {
     "data": {
      "text/html": [
       "\n",
       "    <div>\n",
       "        <style>\n",
       "            /* Turns off some styling */\n",
       "            progress {\n",
       "                /* gets rid of default border in Firefox and Opera. */\n",
       "                border: none;\n",
       "                /* Needs to be in here for Safari polyfill so background images work as expected. */\n",
       "                background-size: auto;\n",
       "            }\n",
       "            .progress-bar-interrupted, .progress-bar-interrupted::-webkit-progress-bar {\n",
       "                background: #F44336;\n",
       "            }\n",
       "        </style>\n",
       "      <progress value='46' class='' max='300' style='width:300px; height:20px; vertical-align: middle;'></progress>\n",
       "      15.33% [46/300 00:40<03:44 Images downloaded]\n",
       "    </div>\n",
       "    "
      ],
      "text/plain": [
       "<IPython.core.display.HTML object>"
      ]
     },
     "metadata": {},
     "output_type": "display_data"
    }
   ],
   "source": [
    "from jmd_imagescraper.core import * # dont't worry, it's designed to work with import *\n",
    "from pathlib import Path\n",
    "from jmd_imagescraper.imagecleaner import *\n",
    "\n",
    "Image_Folder = input('Ingrese el nombre de la carpeta: ')\n",
    "nombre = input('Ingrese el nombre de la comida: ')\n",
    "atributo=input('Ingrese un atributo de la comida: ')\n",
    "cantidad= int(input('Ingrese la cantidad: '))\n",
    "\n",
    "root = Path().cwd()/Image_Folder\n",
    "\n",
    "duckduckgo_search(root, nombre,atributo,max_results=cantidad)\n",
    "display_image_cleaner(root)"
   ]
  },
  {
   "cell_type": "code",
   "execution_count": null,
   "metadata": {},
   "outputs": [],
   "source": [
    "\n"
   ]
  },
  {
   "cell_type": "code",
   "execution_count": null,
   "metadata": {},
   "outputs": [],
   "source": []
  }
 ],
 "metadata": {
  "kernelspec": {
   "display_name": "Python 3",
   "language": "python",
   "name": "python3"
  },
  "language_info": {
   "codemirror_mode": {
    "name": "ipython",
    "version": 3
   },
   "file_extension": ".py",
   "mimetype": "text/x-python",
   "name": "python",
   "nbconvert_exporter": "python",
   "pygments_lexer": "ipython3",
   "version": "3.8.3"
  }
 },
 "nbformat": 4,
 "nbformat_minor": 4
}
