{
 "cells": [
  {
   "cell_type": "code",
   "execution_count": null,
   "metadata": {},
   "outputs": [],
   "source": [
    "pip install jmd_imagescraper"
   ]
  },
  {
   "cell_type": "code",
   "execution_count": null,
   "metadata": {},
   "outputs": [
    {
     "name": "stdout",
     "output_type": "stream",
     "text": [
      "Ingrese el nombre de la carpeta: 1. ceviche de pescado\n",
      "Ingrese el nombre de la comida: ceviche peruano\n"
     ]
    }
   ],
   "source": [
    "from jmd_imagescraper.core import * # dont't worry, it's designed to work with import *\n",
    "from pathlib import Path\n",
    "from jmd_imagescraper.imagecleaner import *\n",
    "\n",
    "Image_Folder = input('Ingrese el nombre de la carpeta: ')\n",
    "nombre = input('Ingrese el nombre de la comida: ')\n",
    "atributo=input('Ingrese un atributo de la comida: ')\n",
    "cantidad= int(input('Ingrese la cantidad: '))\n",
    "\n",
    "root = Path().cwd()/Image_Folder\n",
    "\n",
    "duckduckgo_search(root, nombre,atributo,max_results=cantidad)\n",
    "display_image_cleaner(root)"
   ]
  },
  {
   "cell_type": "code",
   "execution_count": null,
   "metadata": {},
   "outputs": [],
   "source": [
    "\n"
   ]
  },
  {
   "cell_type": "code",
   "execution_count": null,
   "metadata": {},
   "outputs": [],
   "source": []
  }
 ],
 "metadata": {
  "kernelspec": {
   "display_name": "Python 3",
   "language": "python",
   "name": "python3"
  },
  "language_info": {
   "codemirror_mode": {
    "name": "ipython",
    "version": 3
   },
   "file_extension": ".py",
   "mimetype": "text/x-python",
   "name": "python",
   "nbconvert_exporter": "python",
   "pygments_lexer": "ipython3",
   "version": "3.8.3"
  }
 },
 "nbformat": 4,
 "nbformat_minor": 4
}
