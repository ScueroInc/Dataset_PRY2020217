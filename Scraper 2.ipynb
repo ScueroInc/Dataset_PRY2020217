{
 "cells": [
  {
   "cell_type": "code",
   "execution_count": 4,
   "metadata": {},
   "outputs": [
    {
     "name": "stdout",
     "output_type": "stream",
     "text": [
      "Ingrese el nombre de la comida: causa rellena\n",
      "Cantidad de imágenes: 300\n",
      "Buscando imágenes\n",
      "Se encontro 80 imagenes\n",
      "Comenzando descarga\n",
      "Descarga completa\n"
     ]
    }
   ],
   "source": [
    "import os\n",
    "import requests \n",
    "from bs4 import BeautifulSoup \n",
    "Google_Image = \\\n",
    "    'https://www.google.com/search?site=&tbm=isch&source=hp&biw=1873&bih=990&'\n",
    "\n",
    "u_agnt = {\n",
    "    'User-Agent': 'Mozilla/5.0 (Windows NT 10.0; Win64; x64) AppleWebKit/537.36 (KHTML, like Gecko) Chrome/85.0.4183.83 Safari/537.36',\n",
    "    'Accept': 'text/html,application/xhtml+xml,application/xml;q=0.9,*/*;q=0.8',\n",
    "    'Accept-Charset': 'ISO-8859-1,utf-8;q=0.7,*;q=0.3',\n",
    "    'Accept-Encoding': 'none',\n",
    "    'Accept-Language': 'en-US,en;q=0.8',\n",
    "    'Connection': 'keep-alive',\n",
    "} \n",
    "data = input('Ingrese el nombre de la comida: ')\n",
    "Image_Folder = data\n",
    "\n",
    "def main():\n",
    "    if not os.path.exists(Image_Folder):\n",
    "        os.mkdir(Image_Folder)\n",
    "    download_images()\n",
    "\n",
    "def download_images():\n",
    "    \n",
    "    num_images = int(input('Cantidad de imágenes: '))\n",
    "    \n",
    "    print('Buscando imágenes')\n",
    "    \n",
    "    search_url = Google_Image + 'q=' + data\n",
    "    \n",
    "\n",
    "    response = requests.get(search_url, headers=u_agnt)\n",
    "    html = response.text \n",
    "    b_soup = BeautifulSoup(html, 'html.parser') \n",
    "    results = b_soup.findAll('img', {'class': 'rg_i Q4LuWd'})\n",
    "    count = 0\n",
    "    imagelinks= []\n",
    "    for res in results:\n",
    "        try:\n",
    "            link = res['data-src']\n",
    "            imagelinks.append(link)\n",
    "            count = count + 1\n",
    "            if (count >= num_images):\n",
    "                break\n",
    "            \n",
    "        except KeyError:\n",
    "            continue\n",
    "    \n",
    "    print(f'Se encontro {len(imagelinks)} imagenes')\n",
    "    print('Comenzando descarga')\n",
    "\n",
    "    for i, imagelink in enumerate(imagelinks):\n",
    "        response = requests.get(imagelink)   \n",
    "        imagename = Image_Folder + '/' + data + str(i+1) + '.jpg'\n",
    "        with open(imagename, 'wb') as file:\n",
    "            file.write(response.content)\n",
    "\n",
    "    print('Descarga completa')\n",
    "    \n",
    "\n",
    "if __name__ == '__main__':\n",
    "    main()\n"
   ]
  },
  {
   "cell_type": "code",
   "execution_count": null,
   "metadata": {},
   "outputs": [],
   "source": []
  }
 ],
 "metadata": {
  "kernelspec": {
   "display_name": "Python 3",
   "language": "python",
   "name": "python3"
  },
  "language_info": {
   "codemirror_mode": {
    "name": "ipython",
    "version": 3
   },
   "file_extension": ".py",
   "mimetype": "text/x-python",
   "name": "python",
   "nbconvert_exporter": "python",
   "pygments_lexer": "ipython3",
   "version": "3.8.3"
  }
 },
 "nbformat": 4,
 "nbformat_minor": 4
}
